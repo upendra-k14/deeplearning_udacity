{
 "cells": [
  {
   "cell_type": "markdown",
   "metadata": {
    "colab_type": "text",
    "id": "kR-4eNdK6lYS"
   },
   "source": [
    "Deep Learning\n",
    "=============\n",
    "\n",
    "Assignment 3\n",
    "------------\n",
    "\n",
    "Previously in `2_fullyconnected.ipynb`, you trained a logistic regression and a neural network model.\n",
    "\n",
    "The goal of this assignment is to explore regularization techniques."
   ]
  },
  {
   "cell_type": "code",
   "execution_count": 1,
   "metadata": {
    "cellView": "both",
    "colab": {
     "autoexec": {
      "startup": false,
      "wait_interval": 0
     }
    },
    "colab_type": "code",
    "collapsed": true,
    "id": "JLpLa8Jt7Vu4"
   },
   "outputs": [],
   "source": [
    "# These are all the modules we'll be using later. Make sure you can import them\n",
    "# before proceeding further.\n",
    "from __future__ import print_function\n",
    "import numpy as np\n",
    "import tensorflow as tf\n",
    "from six.moves import cPickle as pickle"
   ]
  },
  {
   "cell_type": "markdown",
   "metadata": {
    "colab_type": "text",
    "id": "1HrCK6e17WzV"
   },
   "source": [
    "First reload the data we generated in _notmist.ipynb_."
   ]
  },
  {
   "cell_type": "code",
   "execution_count": 2,
   "metadata": {
    "cellView": "both",
    "colab": {
     "autoexec": {
      "startup": false,
      "wait_interval": 0
     },
     "output_extras": [
      {
       "item_id": 1
      }
     ]
    },
    "colab_type": "code",
    "collapsed": false,
    "executionInfo": {
     "elapsed": 11777,
     "status": "ok",
     "timestamp": 1449849322348,
     "user": {
      "color": "",
      "displayName": "",
      "isAnonymous": false,
      "isMe": true,
      "permissionId": "",
      "photoUrl": "",
      "sessionId": "0",
      "userId": ""
     },
     "user_tz": 480
    },
    "id": "y3-cj1bpmuxc",
    "outputId": "e03576f1-ebbe-4838-c388-f1777bcc9873"
   },
   "outputs": [
    {
     "name": "stdout",
     "output_type": "stream",
     "text": [
      "Training set (200000, 28, 28) (200000,)\n",
      "Validation set (10000, 28, 28) (10000,)\n",
      "Test set (10000, 28, 28) (10000,)\n"
     ]
    }
   ],
   "source": [
    "pickle_file = 'notMNIST.pickle'\n",
    "\n",
    "with open(pickle_file, 'rb') as f:\n",
    "  save = pickle.load(f)\n",
    "  train_dataset = save['train_dataset']\n",
    "  train_labels = save['train_labels']\n",
    "  valid_dataset = save['valid_dataset']\n",
    "  valid_labels = save['valid_labels']\n",
    "  test_dataset = save['test_dataset']\n",
    "  test_labels = save['test_labels']\n",
    "  del save  # hint to help gc free up memory\n",
    "  print('Training set', train_dataset.shape, train_labels.shape)\n",
    "  print('Validation set', valid_dataset.shape, valid_labels.shape)\n",
    "  print('Test set', test_dataset.shape, test_labels.shape)"
   ]
  },
  {
   "cell_type": "markdown",
   "metadata": {
    "colab_type": "text",
    "id": "L7aHrm6nGDMB"
   },
   "source": [
    "Reformat into a shape that's more adapted to the models we're going to train:\n",
    "- data as a flat matrix,\n",
    "- labels as float 1-hot encodings."
   ]
  },
  {
   "cell_type": "code",
   "execution_count": 3,
   "metadata": {
    "cellView": "both",
    "colab": {
     "autoexec": {
      "startup": false,
      "wait_interval": 0
     },
     "output_extras": [
      {
       "item_id": 1
      }
     ]
    },
    "colab_type": "code",
    "collapsed": false,
    "executionInfo": {
     "elapsed": 11728,
     "status": "ok",
     "timestamp": 1449849322356,
     "user": {
      "color": "",
      "displayName": "",
      "isAnonymous": false,
      "isMe": true,
      "permissionId": "",
      "photoUrl": "",
      "sessionId": "0",
      "userId": ""
     },
     "user_tz": 480
    },
    "id": "IRSyYiIIGIzS",
    "outputId": "3f8996ee-3574-4f44-c953-5c8a04636582"
   },
   "outputs": [
    {
     "name": "stdout",
     "output_type": "stream",
     "text": [
      "Training set (200000, 784) (200000, 10)\n",
      "Validation set (10000, 784) (10000, 10)\n",
      "Test set (10000, 784) (10000, 10)\n"
     ]
    }
   ],
   "source": [
    "image_size = 28\n",
    "num_labels = 10\n",
    "\n",
    "def reformat(dataset, labels):\n",
    "  dataset = dataset.reshape((-1, image_size * image_size)).astype(np.float32)\n",
    "  # Map 1 to [0.0, 1.0, 0.0 ...], 2 to [0.0, 0.0, 1.0 ...]\n",
    "  labels = (np.arange(num_labels) == labels[:,None]).astype(np.float32)\n",
    "  return dataset, labels\n",
    "train_dataset, train_labels = reformat(train_dataset, train_labels)\n",
    "valid_dataset, valid_labels = reformat(valid_dataset, valid_labels)\n",
    "test_dataset, test_labels = reformat(test_dataset, test_labels)\n",
    "print('Training set', train_dataset.shape, train_labels.shape)\n",
    "print('Validation set', valid_dataset.shape, valid_labels.shape)\n",
    "print('Test set', test_dataset.shape, test_labels.shape)"
   ]
  },
  {
   "cell_type": "code",
   "execution_count": 4,
   "metadata": {
    "cellView": "both",
    "colab": {
     "autoexec": {
      "startup": false,
      "wait_interval": 0
     }
    },
    "colab_type": "code",
    "collapsed": true,
    "id": "RajPLaL_ZW6w"
   },
   "outputs": [],
   "source": [
    "def accuracy(predictions, labels):\n",
    "  return (100.0 * np.sum(np.argmax(predictions, 1) == np.argmax(labels, 1))\n",
    "          / predictions.shape[0])"
   ]
  },
  {
   "cell_type": "markdown",
   "metadata": {
    "colab_type": "text",
    "id": "sgLbUAQ1CW-1"
   },
   "source": [
    "---\n",
    "Problem 1\n",
    "---------\n",
    "\n",
    "Introduce and tune L2 regularization for both logistic and neural network models. Remember that L2 amounts to adding a penalty on the norm of the weights to the loss. In TensorFlow, you can compute the L2 loss for a tensor `t` using `nn.l2_loss(t)`. The right amount of regularization should improve your validation / test accuracy.\n",
    "\n",
    "---"
   ]
  },
  {
   "cell_type": "markdown",
   "metadata": {},
   "source": [
    "    Logistic Model with L2 loss\n",
    "    ----------------------------"
   ]
  },
  {
   "cell_type": "code",
   "execution_count": 12,
   "metadata": {
    "collapsed": true
   },
   "outputs": [],
   "source": [
    "batch_size = 128\n",
    "beta_regularize = 0.01\n",
    "\n",
    "graph = tf.Graph()\n",
    "with graph.as_default():\n",
    "\n",
    "  # Input data. For the training data, we use a placeholder that will be fed\n",
    "  # at run time with a training minibatch.\n",
    "  tf_train_dataset = tf.placeholder(tf.float32,\n",
    "                                    shape=(batch_size, image_size * image_size))\n",
    "  tf_train_labels = tf.placeholder(tf.float32, shape=(batch_size, num_labels))\n",
    "  tf_valid_dataset = tf.constant(valid_dataset)\n",
    "  tf_test_dataset = tf.constant(test_dataset)\n",
    "  \n",
    "  # Variables.\n",
    "  weights = tf.Variable(\n",
    "    tf.truncated_normal([image_size * image_size, num_labels]))\n",
    "  biases = tf.Variable(tf.zeros([num_labels]))\n",
    "  \n",
    "  # Training computation.\n",
    "  logits = tf.matmul(tf_train_dataset, weights) + biases\n",
    "  loss = tf.reduce_mean(\n",
    "    tf.nn.softmax_cross_entropy_with_logits(logits, tf_train_labels)) + beta_regularize*tf.nn.l2_loss(weights)\n",
    "  \n",
    "  # Optimizer.\n",
    "  optimizer = tf.train.GradientDescentOptimizer(0.5).minimize(loss)\n",
    "  \n",
    "  # Predictions for the training, validation, and test data.\n",
    "  train_prediction = tf.nn.softmax(logits)\n",
    "  valid_prediction = tf.nn.softmax(\n",
    "    tf.matmul(tf_valid_dataset, weights) + biases)\n",
    "  test_prediction = tf.nn.softmax(tf.matmul(tf_test_dataset, weights) + biases)"
   ]
  },
  {
   "cell_type": "markdown",
   "metadata": {},
   "source": [
    "Now, the graph is constructed with L2 regularization. Now, SGD needs to be run on the graph."
   ]
  },
  {
   "cell_type": "code",
   "execution_count": 13,
   "metadata": {
    "collapsed": false
   },
   "outputs": [
    {
     "name": "stdout",
     "output_type": "stream",
     "text": [
      "Initialized\n",
      "Minibatch loss at step 0: 49.397758\n",
      "Minibatch accuracy: 8.6%\n",
      "Validation accuracy: 11.4%\n",
      "Minibatch loss at step 500: 0.987028\n",
      "Minibatch accuracy: 79.7%\n",
      "Validation accuracy: 81.6%\n",
      "Minibatch loss at step 1000: 0.743852\n",
      "Minibatch accuracy: 81.2%\n",
      "Validation accuracy: 80.8%\n",
      "Minibatch loss at step 1500: 0.682755\n",
      "Minibatch accuracy: 82.8%\n",
      "Validation accuracy: 80.5%\n",
      "Minibatch loss at step 2000: 0.636725\n",
      "Minibatch accuracy: 83.6%\n",
      "Validation accuracy: 82.3%\n",
      "Minibatch loss at step 2500: 0.868841\n",
      "Minibatch accuracy: 78.1%\n",
      "Validation accuracy: 80.8%\n",
      "Minibatch loss at step 3000: 0.790609\n",
      "Minibatch accuracy: 81.2%\n",
      "Validation accuracy: 81.6%\n",
      "Test accuracy: 87.5%\n"
     ]
    }
   ],
   "source": [
    "num_steps = 3001\n",
    "\n",
    "def accuracy(predictions, labels):\n",
    "  return (100.0 * np.sum(np.argmax(predictions, 1) == np.argmax(labels, 1))\n",
    "          / predictions.shape[0])\n",
    "\n",
    "with tf.Session(graph=graph) as session:\n",
    "  tf.global_variables_initializer().run()\n",
    "  print(\"Initialized\")\n",
    "  for step in range(num_steps):\n",
    "    # Pick an offset within the training data, which has been randomized.\n",
    "    # Note: we could use better randomization across epochs.\n",
    "    offset = (step * batch_size) % (train_labels.shape[0] - batch_size)\n",
    "    # Generate a minibatch.\n",
    "    batch_data = train_dataset[offset:(offset + batch_size), :]\n",
    "    batch_labels = train_labels[offset:(offset + batch_size), :]\n",
    "    # Prepare a dictionary telling the session where to feed the minibatch.\n",
    "    # The key of the dictionary is the placeholder node of the graph to be fed,\n",
    "    # and the value is the numpy array to feed to it.\n",
    "    feed_dict = {tf_train_dataset : batch_data, tf_train_labels : batch_labels}\n",
    "    _, l, predictions = session.run(\n",
    "      [optimizer, loss, train_prediction], feed_dict=feed_dict)\n",
    "    if (step % 500 == 0):\n",
    "      print(\"Minibatch loss at step %d: %f\" % (step, l))\n",
    "      print(\"Minibatch accuracy: %.1f%%\" % accuracy(predictions, batch_labels))\n",
    "      print(\"Validation accuracy: %.1f%%\" % accuracy(\n",
    "        valid_prediction.eval(), valid_labels))\n",
    "  print(\"Test accuracy: %.1f%%\" % accuracy(test_prediction.eval(), test_labels))"
   ]
  },
  {
   "cell_type": "markdown",
   "metadata": {},
   "source": [
    "    1-Layer Hidden Neural Network\n",
    "    -----------------------------\n"
   ]
  },
  {
   "cell_type": "code",
   "execution_count": 18,
   "metadata": {
    "collapsed": false
   },
   "outputs": [
    {
     "name": "stdout",
     "output_type": "stream",
     "text": [
      "Initialized\n",
      "Minibatch loss at step 0: 3416.972656\n",
      "Minibatch accuracy: 11.7%\n",
      "Validation accuracy: 32.0%\n",
      "Minibatch loss at step 500: 21.361874\n",
      "Minibatch accuracy: 81.2%\n",
      "Validation accuracy: 84.3%\n",
      "Minibatch loss at step 1000: 0.842125\n",
      "Minibatch accuracy: 85.9%\n",
      "Validation accuracy: 84.1%\n",
      "Minibatch loss at step 1500: 0.671039\n",
      "Minibatch accuracy: 84.4%\n",
      "Validation accuracy: 83.6%\n",
      "Minibatch loss at step 2000: 0.612849\n",
      "Minibatch accuracy: 89.1%\n",
      "Validation accuracy: 84.0%\n",
      "Minibatch loss at step 2500: 0.822830\n",
      "Minibatch accuracy: 79.7%\n",
      "Validation accuracy: 84.2%\n",
      "Minibatch loss at step 3000: 0.721289\n",
      "Minibatch accuracy: 84.4%\n",
      "Validation accuracy: 84.4%\n",
      "Test accuracy: 89.8%\n"
     ]
    }
   ],
   "source": [
    "batch_size = 128\n",
    "hidden_nodes = 1024\n",
    "beta_reg_param = 0.01\n",
    "\n",
    "graph = tf.Graph()\n",
    "with graph.as_default():\n",
    "\n",
    "  # Input data. For the training data, we use a placeholder that will be fed\n",
    "  # at run time with a training minibatch.\n",
    "  tf_train_dataset = tf.placeholder(tf.float32,\n",
    "                                    shape=(batch_size, image_size * image_size))\n",
    "  tf_train_labels = tf.placeholder(tf.float32, shape=(batch_size, num_labels))\n",
    "  tf_valid_dataset = tf.constant(valid_dataset)\n",
    "  tf_test_dataset = tf.constant(test_dataset)\n",
    "  \n",
    "  # Variables.\n",
    "  weights_a = tf.Variable(\n",
    "    tf.truncated_normal([image_size * image_size, hidden_nodes]))\n",
    "  weights_b = tf.Variable(\n",
    "    tf.truncated_normal([hidden_nodes, num_labels]))\n",
    "  biases_a = tf.Variable(tf.zeros([hidden_nodes]))\n",
    "  biases_b = tf.Variable(tf.zeros([num_labels]))\n",
    "  \n",
    "  # Training computation.\n",
    "  hidden_layer = tf.nn.relu(tf.matmul(tf_train_dataset, weights_a) + biases_a)\n",
    "  output_layer = tf.matmul(hidden_layer, weights_b) + biases_b\n",
    "  loss = tf.reduce_mean(\n",
    "    tf.nn.softmax_cross_entropy_with_logits(output_layer, tf_train_labels)) + beta_reg_param*(tf.nn.l2_loss(weights_a)+tf.nn.l2_loss(weights_b))\n",
    "  \n",
    "  # Optimizer.\n",
    "  optimizer = tf.train.GradientDescentOptimizer(0.5).minimize(loss)\n",
    "  \n",
    "  # Predictions for the training, validation, and test data.\n",
    "  train_prediction = tf.nn.softmax(output_layer)\n",
    "  valid_prediction = tf.nn.softmax(\n",
    "    tf.matmul(tf.nn.relu(tf.matmul(tf_valid_dataset, weights_a) + biases_a), weights_b)+biases_b)\n",
    "  test_prediction = tf.nn.softmax(\n",
    "    tf.matmul(tf.nn.relu(tf.matmul(tf_test_dataset, weights_a) + biases_a), weights_b)+biases_b)\n",
    "\n",
    "\n",
    "with tf.Session(graph=graph) as session:\n",
    "  tf.global_variables_initializer().run()\n",
    "  print(\"Initialized\")\n",
    "  for step in range(num_steps):\n",
    "    # Pick an offset within the training data, which has been randomized.\n",
    "    # Note: we could use better randomization across epochs.\n",
    "    offset = (step * batch_size) % (train_labels.shape[0] - batch_size)\n",
    "    # Generate a minibatch.\n",
    "    batch_data = train_dataset[offset:(offset + batch_size), :]\n",
    "    batch_labels = train_labels[offset:(offset + batch_size), :]\n",
    "    # Prepare a dictionary telling the session where to feed the minibatch.\n",
    "    # The key of the dictionary is the placeholder node of the graph to be fed,\n",
    "    # and the value is the numpy array to feed to it.\n",
    "    feed_dict = {tf_train_dataset : batch_data, tf_train_labels : batch_labels}\n",
    "    _, l, predictions = session.run(\n",
    "      [optimizer, loss, train_prediction], feed_dict=feed_dict)\n",
    "    if (step % 500 == 0):\n",
    "      print(\"Minibatch loss at step %d: %f\" % (step, l))\n",
    "      print(\"Minibatch accuracy: %.1f%%\" % accuracy(predictions, batch_labels))\n",
    "      print(\"Validation accuracy: %.1f%%\" % accuracy(\n",
    "        valid_prediction.eval(), valid_labels))\n",
    "  print(\"Test accuracy: %.1f%%\" % accuracy(test_prediction.eval(), test_labels))"
   ]
  },
  {
   "cell_type": "markdown",
   "metadata": {
    "colab_type": "text",
    "id": "na8xX2yHZzNF"
   },
   "source": [
    "---\n",
    "Problem 2\n",
    "---------\n",
    "Let's demonstrate an extreme case of overfitting. Restrict your training data to just a few batches. What happens?\n",
    "\n",
    "---"
   ]
  },
  {
   "cell_type": "code",
   "execution_count": 16,
   "metadata": {
    "collapsed": false
   },
   "outputs": [
    {
     "name": "stdout",
     "output_type": "stream",
     "text": [
      "Initialized\n",
      "Minibatch loss at step 0: 48.065018\n",
      "Minibatch accuracy: 0.0%\n",
      "Validation accuracy: 13.9%\n",
      "Minibatch loss at step 500: 1.724852\n",
      "Minibatch accuracy: 70.0%\n",
      "Validation accuracy: 68.8%\n",
      "Minibatch loss at step 1000: 2.381252\n",
      "Minibatch accuracy: 70.0%\n",
      "Validation accuracy: 72.4%\n",
      "Minibatch loss at step 1500: 1.404009\n",
      "Minibatch accuracy: 90.0%\n",
      "Validation accuracy: 68.7%\n",
      "Minibatch loss at step 2000: 3.308974\n",
      "Minibatch accuracy: 70.0%\n",
      "Validation accuracy: 67.3%\n",
      "Minibatch loss at step 2500: 3.073944\n",
      "Minibatch accuracy: 60.0%\n",
      "Validation accuracy: 69.0%\n",
      "Minibatch loss at step 3000: 2.171704\n",
      "Minibatch accuracy: 70.0%\n",
      "Validation accuracy: 69.7%\n",
      "Test accuracy: 75.5%\n"
     ]
    }
   ],
   "source": [
    "#Constrained batch size\n",
    "batch_size = 10\n",
    "beta_regularize = 0.01\n",
    "\n",
    "graph = tf.Graph()\n",
    "with graph.as_default():\n",
    "\n",
    "  # Input data. For the training data, we use a placeholder that will be fed\n",
    "  # at run time with a training minibatch.\n",
    "  tf_train_dataset = tf.placeholder(tf.float32,\n",
    "                                    shape=(batch_size, image_size * image_size))\n",
    "  tf_train_labels = tf.placeholder(tf.float32, shape=(batch_size, num_labels))\n",
    "  tf_valid_dataset = tf.constant(valid_dataset)\n",
    "  tf_test_dataset = tf.constant(test_dataset)\n",
    "  \n",
    "  # Variables.\n",
    "  weights = tf.Variable(\n",
    "    tf.truncated_normal([image_size * image_size, num_labels]))\n",
    "  biases = tf.Variable(tf.zeros([num_labels]))\n",
    "  \n",
    "  # Training computation.\n",
    "  logits = tf.matmul(tf_train_dataset, weights) + biases\n",
    "  loss = tf.reduce_mean(\n",
    "    tf.nn.softmax_cross_entropy_with_logits(logits, tf_train_labels)) + beta_regularize*tf.nn.l2_loss(weights)\n",
    "  \n",
    "  # Optimizer.\n",
    "  optimizer = tf.train.GradientDescentOptimizer(0.5).minimize(loss)\n",
    "  \n",
    "  # Predictions for the training, validation, and test data.\n",
    "  train_prediction = tf.nn.softmax(logits)\n",
    "  valid_prediction = tf.nn.softmax(\n",
    "    tf.matmul(tf_valid_dataset, weights) + biases)\n",
    "  test_prediction = tf.nn.softmax(tf.matmul(tf_test_dataset, weights) + biases)\n",
    "\n",
    "with tf.Session(graph=graph) as session:\n",
    "  tf.global_variables_initializer().run()\n",
    "  print(\"Initialized\")\n",
    "  for step in range(num_steps):\n",
    "    # Pick an offset within the training data, which has been randomized.\n",
    "    # Note: we could use better randomization across epochs.\n",
    "    offset = (step * batch_size) % (train_labels.shape[0] - batch_size)\n",
    "    # Generate a minibatch.\n",
    "    batch_data = train_dataset[offset:(offset + batch_size), :]\n",
    "    batch_labels = train_labels[offset:(offset + batch_size), :]\n",
    "    # Prepare a dictionary telling the session where to feed the minibatch.\n",
    "    # The key of the dictionary is the placeholder node of the graph to be fed,\n",
    "    # and the value is the numpy array to feed to it.\n",
    "    feed_dict = {tf_train_dataset : batch_data, tf_train_labels : batch_labels}\n",
    "    _, l, predictions = session.run(\n",
    "      [optimizer, loss, train_prediction], feed_dict=feed_dict)\n",
    "    if (step % 500 == 0):\n",
    "      print(\"Minibatch loss at step %d: %f\" % (step, l))\n",
    "      print(\"Minibatch accuracy: %.1f%%\" % accuracy(predictions, batch_labels))\n",
    "      print(\"Validation accuracy: %.1f%%\" % accuracy(\n",
    "        valid_prediction.eval(), valid_labels))\n",
    "  print(\"Test accuracy: %.1f%%\" % accuracy(test_prediction.eval(), test_labels))"
   ]
  },
  {
   "cell_type": "markdown",
   "metadata": {
    "colab_type": "text",
    "id": "ww3SCBUdlkRc"
   },
   "source": [
    "---\n",
    "Problem 3\n",
    "---------\n",
    "Introduce Dropout on the hidden layer of the neural network. Remember: Dropout should only be introduced during training, not evaluation, otherwise your evaluation results would be stochastic as well. TensorFlow provides `nn.dropout()` for that, but you have to make sure it's only inserted during training.\n",
    "\n",
    "What happens to our extreme overfitting case?\n",
    "\n",
    "---"
   ]
  },
  {
   "cell_type": "code",
   "execution_count": 26,
   "metadata": {
    "collapsed": false
   },
   "outputs": [
    {
     "name": "stdout",
     "output_type": "stream",
     "text": [
      "Initialized\n",
      "Minibatch loss at step 0: 809.039551\n",
      "Minibatch accuracy: 10.9%\n",
      "Validation accuracy: 22.5%\n",
      "Minibatch loss at step 500: 199.755554\n",
      "Minibatch accuracy: 74.2%\n",
      "Validation accuracy: 81.2%\n",
      "Minibatch loss at step 1000: 118.705269\n",
      "Minibatch accuracy: 75.8%\n",
      "Validation accuracy: 78.9%\n",
      "Minibatch loss at step 1500: 69.937668\n",
      "Minibatch accuracy: 78.9%\n",
      "Validation accuracy: 81.6%\n",
      "Minibatch loss at step 2000: 41.601620\n",
      "Minibatch accuracy: 80.5%\n",
      "Validation accuracy: 83.1%\n",
      "Minibatch loss at step 2500: 25.407660\n",
      "Minibatch accuracy: 74.2%\n",
      "Validation accuracy: 84.3%\n",
      "Minibatch loss at step 3000: 15.602824\n",
      "Minibatch accuracy: 82.0%\n",
      "Validation accuracy: 85.8%\n",
      "Test accuracy: 91.5%\n"
     ]
    }
   ],
   "source": [
    "batch_size = 128\n",
    "hidden_nodes = 1024\n",
    "beta_reg_param = 0.001\n",
    "\n",
    "graph = tf.Graph()\n",
    "with graph.as_default():\n",
    "\n",
    "  # Input data. For the training data, we use a placeholder that will be fed\n",
    "  # at run time with a training minibatch.\n",
    "  tf_train_dataset = tf.placeholder(tf.float32,\n",
    "                                    shape=(batch_size, image_size * image_size))\n",
    "  tf_train_labels = tf.placeholder(tf.float32, shape=(batch_size, num_labels))\n",
    "  tf_valid_dataset = tf.constant(valid_dataset)\n",
    "  tf_test_dataset = tf.constant(test_dataset)\n",
    "  \n",
    "  # Variables.\n",
    "  weights_a = tf.Variable(\n",
    "    tf.truncated_normal([image_size * image_size, hidden_nodes]))\n",
    "  weights_b = tf.Variable(\n",
    "    tf.truncated_normal([hidden_nodes, num_labels]))\n",
    "  biases_a = tf.Variable(tf.zeros([hidden_nodes]))\n",
    "  biases_b = tf.Variable(tf.zeros([num_labels]))\n",
    "  \n",
    "  # Training computation.\n",
    "  hidden_layer = tf.nn.dropout(tf.nn.relu(tf.matmul(tf_train_dataset, weights_a) + biases_a), keep_prob=0.5)\n",
    "  output_layer = tf.matmul(hidden_layer, weights_b) + biases_b\n",
    "  loss = tf.reduce_mean(\n",
    "    tf.nn.softmax_cross_entropy_with_logits(output_layer, tf_train_labels)) + beta_reg_param*(tf.nn.l2_loss(weights_a)+tf.nn.l2_loss(weights_b))\n",
    "  \n",
    "  # Optimizer.\n",
    "  optimizer = tf.train.GradientDescentOptimizer(0.5).minimize(loss)\n",
    "  \n",
    "  # Predictions for the training, validation, and test data.\n",
    "  train_prediction = tf.nn.softmax(output_layer)\n",
    "  valid_prediction = tf.nn.softmax(\n",
    "    tf.matmul(tf.nn.relu(tf.matmul(tf_valid_dataset, weights_a) + biases_a), weights_b)+biases_b)\n",
    "  test_prediction = tf.nn.softmax(\n",
    "    tf.matmul(tf.nn.relu(tf.matmul(tf_test_dataset, weights_a) + biases_a), weights_b)+biases_b)\n",
    "\n",
    "\n",
    "with tf.Session(graph=graph) as session:\n",
    "  tf.global_variables_initializer().run()\n",
    "  print(\"Initialized\")\n",
    "  for step in range(num_steps):\n",
    "    # Pick an offset within the training data, which has been randomized.\n",
    "    # Note: we could use better randomization across epochs.\n",
    "    offset = (step * batch_size) % (train_labels.shape[0] - batch_size)\n",
    "    # Generate a minibatch.\n",
    "    batch_data = train_dataset[offset:(offset + batch_size), :]\n",
    "    batch_labels = train_labels[offset:(offset + batch_size), :]\n",
    "    # Prepare a dictionary telling the session where to feed the minibatch.\n",
    "    # The key of the dictionary is the placeholder node of the graph to be fed,\n",
    "    # and the value is the numpy array to feed to it.\n",
    "    feed_dict = {tf_train_dataset : batch_data, tf_train_labels : batch_labels}\n",
    "    _, l, predictions = session.run(\n",
    "      [optimizer, loss, train_prediction], feed_dict=feed_dict)\n",
    "    if (step % 500 == 0):\n",
    "      print(\"Minibatch loss at step %d: %f\" % (step, l))\n",
    "      print(\"Minibatch accuracy: %.1f%%\" % accuracy(predictions, batch_labels))\n",
    "      print(\"Validation accuracy: %.1f%%\" % accuracy(\n",
    "        valid_prediction.eval(), valid_labels))\n",
    "  print(\"Test accuracy: %.1f%%\" % accuracy(test_prediction.eval(), test_labels))"
   ]
  },
  {
   "cell_type": "markdown",
   "metadata": {
    "colab_type": "text",
    "id": "-b1hTz3VWZjw"
   },
   "source": [
    "---\n",
    "Problem 4\n",
    "---------\n",
    "\n",
    "Try to get the best performance you can using a multi-layer model! The best reported test accuracy using a deep network is [97.1%](http://yaroslavvb.blogspot.com/2011/09/notmnist-dataset.html?showComment=1391023266211#c8758720086795711595).\n",
    "\n",
    "One avenue you can explore is to add multiple layers.\n",
    "\n",
    "Another one is to use learning rate decay:\n",
    "\n",
    "    global_step = tf.Variable(0)  # count the number of steps taken.\n",
    "    learning_rate = tf.train.exponential_decay(0.5, global_step, ...)\n",
    "    optimizer = tf.train.GradientDescentOptimizer(learning_rate).minimize(loss, global_step=global_step)\n",
    " \n",
    " ---\n"
   ]
  },
  {
   "cell_type": "code",
   "execution_count": 50,
   "metadata": {
    "collapsed": false
   },
   "outputs": [],
   "source": [
    "##################################################################################################################\n",
    "#Parameters which need experimentation\n",
    "batch_size = 1500\n",
    "num_nodes = [image_size*image_size, 1024, 1024, 800, num_labels]\n",
    "dropout_prob = [0.8, 0.8, 0.8]\n",
    "beta_reg_param = 0.3\n",
    "start_learning_rate = 0.000005\n",
    "##################################################################################################################\n",
    "\n",
    "graph = tf.Graph()\n",
    "\n",
    "def get_prediction(dataset, weights, biases):\n",
    "  last_layer = dataset\n",
    "  for i in range(len(num_nodes)-2):\n",
    "    last_layer = tf.nn.relu(tf.matmul(last_layer,weights[i])+biases[i])\n",
    "  output_layer = tf.matmul(last_layer, weights[-1]) + biases[-1]\n",
    "    \n",
    "  return tf.nn.softmax(output_layer)\n",
    "    \n",
    "\n"
   ]
  },
  {
   "cell_type": "code",
   "execution_count": null,
   "metadata": {
    "collapsed": false
   },
   "outputs": [
    {
     "name": "stdout",
     "output_type": "stream",
     "text": [
      "Initialized\n",
      "Minibatch loss at step 0: 118668.648438\n",
      "Minibatch accuracy: 9.7%\n",
      "Validation accuracy: 7.0%\n",
      "Minibatch loss at step 2000: 144036.921875\n",
      "Minibatch accuracy: 6.1%\n",
      "Validation accuracy: 22.4%\n",
      "Minibatch loss at step 4000: 71521.148438\n",
      "Minibatch accuracy: 26.3%\n",
      "Validation accuracy: 43.5%\n",
      "Minibatch loss at step 6000: 74891.679688\n",
      "Minibatch accuracy: 25.3%\n",
      "Validation accuracy: 56.1%\n",
      "Minibatch loss at step 8000: 68454.125000\n",
      "Minibatch accuracy: 29.1%\n",
      "Validation accuracy: 63.8%\n",
      "Minibatch loss at step 10000: 44450.789062\n",
      "Minibatch accuracy: 47.2%\n",
      "Validation accuracy: 68.1%\n",
      "Minibatch loss at step 12000: 47908.449219\n",
      "Minibatch accuracy: 43.0%\n",
      "Validation accuracy: 71.1%\n",
      "Minibatch loss at step 14000: 36920.214844\n",
      "Minibatch accuracy: 52.9%\n",
      "Validation accuracy: 73.0%\n",
      "Minibatch loss at step 16000: 31958.117188\n",
      "Minibatch accuracy: 60.9%\n",
      "Validation accuracy: 74.3%\n",
      "Minibatch loss at step 18000: 29593.183594\n",
      "Minibatch accuracy: 64.3%\n",
      "Validation accuracy: 75.4%\n",
      "Minibatch loss at step 20000: 39502.574219\n",
      "Minibatch accuracy: 53.6%\n",
      "Validation accuracy: 76.1%\n",
      "Minibatch loss at step 22000: 25480.566406\n",
      "Minibatch accuracy: 65.1%\n",
      "Validation accuracy: 76.9%\n",
      "Minibatch loss at step 24000: 26715.064453\n",
      "Minibatch accuracy: 65.5%\n",
      "Validation accuracy: 77.5%\n",
      "Minibatch loss at step 26000: 33350.402344\n",
      "Minibatch accuracy: 58.5%\n",
      "Validation accuracy: 78.2%\n",
      "Minibatch loss at step 28000: 21825.330078\n",
      "Minibatch accuracy: 69.9%\n",
      "Validation accuracy: 78.7%\n",
      "Minibatch loss at step 30000: 23296.718750\n",
      "Minibatch accuracy: 66.9%\n",
      "Validation accuracy: 79.1%\n",
      "Minibatch loss at step 32000: 25979.775391\n",
      "Minibatch accuracy: 67.8%\n",
      "Validation accuracy: 79.6%\n",
      "Minibatch loss at step 34000: 21752.978516\n",
      "Minibatch accuracy: 70.5%\n",
      "Validation accuracy: 79.9%\n",
      "Minibatch loss at step 36000: 18458.378906\n",
      "Minibatch accuracy: 72.6%\n",
      "Validation accuracy: 80.2%\n",
      "Minibatch loss at step 38000: 26177.697266\n",
      "Minibatch accuracy: 64.6%\n",
      "Validation accuracy: 80.4%\n",
      "Minibatch loss at step 40000: 17419.572266\n",
      "Minibatch accuracy: 73.4%\n",
      "Validation accuracy: 80.6%\n",
      "Minibatch loss at step 42000: 17588.441406\n",
      "Minibatch accuracy: 73.1%\n",
      "Validation accuracy: 80.7%\n",
      "Minibatch loss at step 44000: 21426.195312\n",
      "Minibatch accuracy: 65.3%\n",
      "Validation accuracy: 80.8%\n",
      "Minibatch loss at step 46000: 18983.474609\n",
      "Minibatch accuracy: 68.3%\n",
      "Validation accuracy: 80.9%\n",
      "Minibatch loss at step 48000: 15530.907227\n",
      "Minibatch accuracy: 73.0%\n",
      "Validation accuracy: 81.1%\n",
      "Minibatch loss at step 50000: 20682.294922\n",
      "Minibatch accuracy: 68.3%\n",
      "Validation accuracy: 81.2%\n",
      "Minibatch loss at step 52000: 15156.790039\n",
      "Minibatch accuracy: 74.0%\n",
      "Validation accuracy: 81.3%\n",
      "Minibatch loss at step 54000: 14654.840820\n",
      "Minibatch accuracy: 75.2%\n",
      "Validation accuracy: 81.4%\n",
      "Minibatch loss at step 56000: 17361.109375\n",
      "Minibatch accuracy: 70.7%\n",
      "Validation accuracy: 81.5%\n",
      "Minibatch loss at step 58000: 12808.870117\n",
      "Minibatch accuracy: 76.3%\n",
      "Validation accuracy: 81.5%\n",
      "Minibatch loss at step 60000: 15885.476562\n",
      "Minibatch accuracy: 69.7%\n",
      "Validation accuracy: 81.6%\n",
      "Minibatch loss at step 62000: 11181.992188\n",
      "Minibatch accuracy: 78.7%\n",
      "Validation accuracy: 81.8%\n",
      "Minibatch loss at step 64000: 12889.031250\n",
      "Minibatch accuracy: 72.2%\n",
      "Validation accuracy: 81.8%\n",
      "Minibatch loss at step 66000: 12165.089844\n",
      "Minibatch accuracy: 76.3%\n",
      "Validation accuracy: 81.9%\n",
      "Minibatch loss at step 68000: 13918.585938\n",
      "Minibatch accuracy: 71.8%\n",
      "Validation accuracy: 81.9%\n",
      "Minibatch loss at step 70000: 10569.580078\n",
      "Minibatch accuracy: 77.0%\n",
      "Validation accuracy: 82.0%\n",
      "Minibatch loss at step 72000: 10508.055664\n",
      "Minibatch accuracy: 76.1%\n",
      "Validation accuracy: 82.2%\n",
      "Minibatch loss at step 74000: 13411.706055\n",
      "Minibatch accuracy: 71.3%\n",
      "Validation accuracy: 82.2%\n",
      "Minibatch loss at step 76000: 11672.727539\n",
      "Minibatch accuracy: 75.4%\n",
      "Validation accuracy: 82.3%\n",
      "Minibatch loss at step 78000: 14265.563477\n",
      "Minibatch accuracy: 68.8%\n",
      "Validation accuracy: 82.4%\n",
      "Minibatch loss at step 80000: 11407.731445\n",
      "Minibatch accuracy: 75.4%\n",
      "Validation accuracy: 82.5%\n",
      "Minibatch loss at step 82000: 10409.071289\n",
      "Minibatch accuracy: 73.1%\n",
      "Validation accuracy: 82.5%\n",
      "Minibatch loss at step 84000: 10446.263672\n",
      "Minibatch accuracy: 74.6%\n",
      "Validation accuracy: 82.7%\n",
      "Minibatch loss at step 86000: 11180.321289\n",
      "Minibatch accuracy: 71.6%\n",
      "Validation accuracy: 82.6%\n",
      "Minibatch loss at step 88000: 8778.474609\n",
      "Minibatch accuracy: 76.6%\n",
      "Validation accuracy: 82.7%\n",
      "Minibatch loss at step 90000: 11004.205078\n",
      "Minibatch accuracy: 71.8%\n",
      "Validation accuracy: 82.7%\n",
      "Minibatch loss at step 92000: 9576.044922\n",
      "Minibatch accuracy: 75.3%\n",
      "Validation accuracy: 82.7%\n",
      "Minibatch loss at step 94000: 10269.187500\n",
      "Minibatch accuracy: 75.0%\n",
      "Validation accuracy: 82.7%\n",
      "Minibatch loss at step 96000: 11666.175781\n",
      "Minibatch accuracy: 69.6%\n",
      "Validation accuracy: 82.7%\n",
      "Minibatch loss at step 98000: 7741.572266\n",
      "Minibatch accuracy: 79.5%\n",
      "Validation accuracy: 82.7%\n"
     ]
    }
   ],
   "source": [
    "with graph.as_default():\n",
    "\n",
    "  # Input data. For the training data, we use a placeholder that will be fed\n",
    "  # at run time with a training minibatch.\n",
    "  tf_train_dataset = tf.placeholder(tf.float32,\n",
    "                                    shape=(batch_size, image_size * image_size))\n",
    "  tf_train_labels = tf.placeholder(tf.float32, shape=(batch_size, num_labels))\n",
    "  tf_valid_dataset = tf.constant(valid_dataset)\n",
    "  tf_test_dataset = tf.constant(test_dataset)\n",
    "  \n",
    "  # Variables.\n",
    "  with tf.variable_scope(\"layers\", regularizer=tf.contrib.layers.l2_regularizer):\n",
    "      weights = []\n",
    "      biases = []\n",
    "      for i in range(len(num_nodes)-1):\n",
    "          weights.append(tf.Variable(tf.truncated_normal([num_nodes[i],num_nodes[i+1]])))\n",
    "          biases.append(tf.Variable(tf.zeros([num_nodes[i+1]])))\n",
    "            \n",
    "  global_step = tf.Variable(0, trainable=False)\n",
    "  \n",
    "  # Training computation.\n",
    "  # Have fun creating really deep layers\n",
    "  last_layer = tf_train_dataset\n",
    "  for i in range(len(num_nodes)-2):\n",
    "    last_layer = tf.nn.dropout(tf.nn.relu(tf.matmul(last_layer,weights[i])+biases[i]), keep_prob=dropout_prob[i])\n",
    "  output_layer = tf.matmul(last_layer, weights[-1]) + biases[-1]\n",
    "  loss = tf.reduce_mean(tf.nn.softmax_cross_entropy_with_logits(output_layer, tf_train_labels))\n",
    "  reg_losses = tf.get_collection(tf.GraphKeys.REGULARIZATION_LOSSES)\n",
    "  loss = loss + beta_reg_param*tf.reduce_sum(reg_losses)\n",
    "  \n",
    "  # Optimizer.\n",
    "  learning_rate = tf.train.exponential_decay(\n",
    "      start_learning_rate, global_step, 60000, 0.96, staircase=True)\n",
    "  optimizer = tf.train.AdamOptimizer(learning_rate=learning_rate).minimize(loss,global_step)\n",
    "  \n",
    "  # Predictions for the training, validation, and test data.\n",
    "  train_prediction = tf.nn.softmax(output_layer)\n",
    "  valid_prediction = get_prediction(tf_valid_dataset, weights, biases)\n",
    "  test_prediction = get_prediction(tf_test_dataset, weights, biases)\n",
    "\n",
    "num_steps = 100000\n",
    "\n",
    "with tf.Session(graph=graph) as session:\n",
    "  tf.global_variables_initializer().run()\n",
    "  print(\"Initialized\")\n",
    "  for step in range(num_steps):\n",
    "    # Pick an offset within the training data, which has been randomized.\n",
    "    # Note: we could use better randomization across epochs.\n",
    "    offset = (step * batch_size) % (train_labels.shape[0] - batch_size)\n",
    "    # Generate a minibatch.\n",
    "    batch_data = train_dataset[offset:(offset + batch_size), :]\n",
    "    batch_labels = train_labels[offset:(offset + batch_size), :]\n",
    "    # Prepare a dictionary telling the session where to feed the minibatch.\n",
    "    # The key of the dictionary is the placeholder node of the graph to be fed,\n",
    "    # and the value is the numpy array to feed to it.\n",
    "    feed_dict = {tf_train_dataset : batch_data, tf_train_labels : batch_labels}\n",
    "    _, l, predictions = session.run(\n",
    "      [optimizer, loss, train_prediction], feed_dict=feed_dict)\n",
    "    if (step % 2000 == 0):\n",
    "      print(\"Minibatch loss at step %d: %f\" % (step, l))\n",
    "      print(\"Minibatch accuracy: %.1f%%\" % accuracy(predictions, batch_labels))\n",
    "      print(\"Validation accuracy: %.1f%%\" % accuracy(\n",
    "        valid_prediction.eval(), valid_labels))\n",
    "  print(\"Test accuracy: %.1f%%\" % accuracy(test_prediction.eval(), test_labels))"
   ]
  },
  {
   "cell_type": "code",
   "execution_count": null,
   "metadata": {
    "collapsed": true
   },
   "outputs": [],
   "source": []
  }
 ],
 "metadata": {
  "colab": {
   "default_view": {},
   "name": "3_regularization.ipynb",
   "provenance": [],
   "version": "0.3.2",
   "views": {}
  },
  "kernelspec": {
   "display_name": "Python (tensorflowv1)",
   "language": "python",
   "name": "tensorflow"
  },
  "language_info": {
   "codemirror_mode": {
    "name": "ipython",
    "version": 3
   },
   "file_extension": ".py",
   "mimetype": "text/x-python",
   "name": "python",
   "nbconvert_exporter": "python",
   "pygments_lexer": "ipython3",
   "version": "3.5.2"
  }
 },
 "nbformat": 4,
 "nbformat_minor": 0
}
